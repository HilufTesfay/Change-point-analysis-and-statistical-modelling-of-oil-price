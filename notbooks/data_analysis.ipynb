{
 "cells": [
  {
   "cell_type": "markdown",
   "id": "1a6d91b3",
   "metadata": {},
   "source": []
  },
  {
   "cell_type": "code",
   "execution_count": 3,
   "id": "e450e9c0",
   "metadata": {},
   "outputs": [
    {
     "name": "stderr",
     "output_type": "stream",
     "text": [
      "2025-08-10 15:12:39,543 - src.data.analysis - INFO - Data loaded successfully from /home/hill/Downloads/kIEM/projects/week-10/data/raw/BrentOilPrices.csv\n",
      "2025-08-10 15:12:39,546 - src.data.analysis - INFO - Finished loading data from /home/hill/Downloads/kIEM/projects/week-10/data/raw/BrentOilPrices.csv\n"
     ]
    }
   ],
   "source": [
    "import sys\n",
    "import os\n",
    "from pathlib import Path\n",
    "import logging\n",
    "project_root = os.path.abspath(os.path.join(os.getcwd(), '..'))\n",
    "\n",
    "if project_root not in sys.path:\n",
    "    sys.path.append(project_root)\n",
    "\n",
    "from src.utils.helper import get_root_folder,settingup_logger\n",
    "from src.data.analysis import load_data,perform_initial_eda,clean_data\n",
    "\n",
    "settingup_logger(\"main\")\n",
    "logger=logging.getLogger(__name__)\n",
    "\n",
    "root_folder=get_root_folder()\n",
    "raw_data_path = root_folder / 'data' / 'raw'/'BrentOilPrices.csv'\n",
    "# Load the data\n",
    "try:\n",
    "    df = load_data(raw_data_path)\n",
    "except Exception as e:\n",
    "    logger.error(f\"Error loading data: {e}\")"
   ]
  },
  {
   "cell_type": "markdown",
   "id": "9176e2c6",
   "metadata": {},
   "source": [
    "## EDA"
   ]
  },
  {
   "cell_type": "code",
   "execution_count": 4,
   "id": "f241864b",
   "metadata": {},
   "outputs": [
    {
     "name": "stderr",
     "output_type": "stream",
     "text": [
      "2025-08-10 15:12:39,591 - src.data.analysis - INFO - Performing initial EDA.\n",
      "2025-08-10 15:12:39,595 - src.data.analysis - INFO - DataFrame shape: (9011, 2)\n",
      "2025-08-10 15:12:39,600 - src.data.analysis - INFO - Columns: ['Date', 'Price']\n",
      "2025-08-10 15:12:39,602 - src.data.analysis - INFO - Summary statistics:\n",
      "2025-08-10 15:12:39,620 - src.data.analysis - INFO -              Price\n",
      "count  9011.000000\n",
      "mean     48.420782\n",
      "std      32.860110\n",
      "min       9.100000\n",
      "25%      19.050000\n",
      "50%      38.570000\n",
      "75%      70.090000\n",
      "max     143.950000\n",
      "2025-08-10 15:12:39,641 - src.data.analysis - INFO - First few rows of the DataFrame:\n",
      "2025-08-10 15:12:39,645 - src.data.analysis - INFO -         Date  Price\n",
      "0  20-May-87  18.63\n",
      "1  21-May-87  18.45\n",
      "2  22-May-87  18.55\n",
      "3  25-May-87  18.60\n",
      "4  26-May-87  18.63\n",
      "2025-08-10 15:12:39,664 - src.data.analysis - INFO - Initial EDA completed.\n"
     ]
    }
   ],
   "source": [
    "perform_initial_eda(df)"
   ]
  }
 ],
 "metadata": {
  "kernelspec": {
   "display_name": "venv",
   "language": "python",
   "name": "python3"
  },
  "language_info": {
   "codemirror_mode": {
    "name": "ipython",
    "version": 3
   },
   "file_extension": ".py",
   "mimetype": "text/x-python",
   "name": "python",
   "nbconvert_exporter": "python",
   "pygments_lexer": "ipython3",
   "version": "3.13.5"
  }
 },
 "nbformat": 4,
 "nbformat_minor": 5
}
